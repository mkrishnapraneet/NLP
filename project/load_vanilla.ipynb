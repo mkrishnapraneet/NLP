{
 "cells": [
  {
   "cell_type": "code",
   "execution_count": 1,
   "metadata": {},
   "outputs": [
    {
     "name": "stdout",
     "output_type": "stream",
     "text": [
      "cuda\n"
     ]
    }
   ],
   "source": [
    "import torch\n",
    "import torch.nn as nn\n",
    "import torch.optim as optim\n",
    "import torch.nn.functional as F\n",
    "from torch.utils.data import DataLoader, Dataset\n",
    "import json\n",
    "import numpy as np\n",
    "import math\n",
    "from nltk import word_tokenize\n",
    "import torchtext\n",
    "from transformers import BertTokenizer, BertModel\n",
    "from transformers import BertConfig, BertForSequenceClassification\n",
    "\n",
    "batch_size = 4\n",
    "device = torch.device(\"cuda\" if torch.cuda.is_available() else \"cpu\")\n",
    "print(device)"
   ]
  },
  {
   "cell_type": "code",
   "execution_count": 2,
   "metadata": {},
   "outputs": [
    {
     "name": "stdout",
     "output_type": "stream",
     "text": [
      "800\n",
      "('two options the us views the transitional national council as the sole / only legitimate interlocutor of the libyan people during this interim period , as libyans come together to plan their own future and a permanent , inclusive constitutional system that protects the rights of all libyans . this is in contrast to the qadhafi regime , which has lost all legitimacy to rule . the us views the transitional national council as the legitimate interlocutor of the libyan people during this interim period , as libyans come together to plan their own future and a permanent , inclusive constitutional system that protects the rights of all libyans . this is in contrast to the qadhafi regime , which has lost all legitimacy to rule . the inc is the institution through which we are engaging the libyan people at this time .', 2)\n",
      "(\"ambassador , we just received an email from the adoption service provider about these cases . i am currently reviewing the files to determine if they qualify within the guidelines established recently by uscis and dos . out of the 60 cases , 40 are being adopted by usc . out of the 40 , 5 of the cases were children escorted today and per cnn have just landed in miami . the remaining 35 we are reviewing now . some correspondence i 've seen says that they plan on bringing the children straight to the airport , and we have responded that they first need to come to the embassy . once case in particular will be an issue , as it requires the presidential waiver . did you receive the talking points about presidential waivers ? the majority of the cases will qualify for humanitarian parole . in the last 30 minutes a number of emails have been coming in about private planes , ted turner offering to fly children out , etc . we have a case coming in tomorrow morning in which the 2 adoptive families are being flown in by cbs helicopter from the dr . we are preparing as many cases in advance as possible tonight . kind regards , linda\", 0)\n",
      "(\"hillary , as you have been so kind to share your advice and mentorship with me in the past , i was hoping that we might find some time to chat about some of my current thinking . with the fabulous results of the presidents ' re - election , i am privileged to be able to continue to serve at the cftc . i recall your prior advice upon my being offered the post and it was invaluable . the challenges and opportunities to bring about common sense financial reforms have been fabulous . we are now moving beyond agency rule writing and helping the swaps markets transition to a new era of transparency and oversight . ( the cftc just completed final determinations such that the us has met the pittsburgh g-20 commitment deadline of december 2012 to have our swaps clearing mandate fully in place . ) if we might be able to find a moment to chat , i would love to share my thoughts on possible new challenges and opportunities within the administration . i hope all is well with you as well as you gear up for this holiday time and a much deserved break from the day to day stresses of your current post . gary\", 1)\n",
      "200\n",
      "(\"madame secretary : thank you for reaching out to secretary solis and convincing her to join the verification commission . she and ricardo lagos will make for a very high profile and effective international component of the commission . we will meet with her this morning at 10 am to brief her for tuesday 's journey to honduras . at this point , it appears we have a military aircraft available . the plan is for the u.s. delegation to depart d.c. , stop in miami to pick up ricardo lagos , and arrive in tegucigalpa together . we think this will send a powerful message to hondurans and leave no doubt about our commitment to seeing this process through to a successful conclusion . you should be aware that ambassador hugo llorens is under public assault . the wall street journal dedicates its america 's column this morning to attacking him and calling for his removal . last friday , representative connie mack did the same . this chorus will grow as the extent of our accomplishment is understood . llorens is a tough , stalwart guy . he and his mission have held firm during this crisis . a call from you would be a big boost . finally , we will hold an ipc today to identify further steps . we will keep you up to date on these steps and identify further opportunities for your engagement . i want to thank you for your leadership and support during this long crisis . your willingness to engage at key moments and take risks at the right time have propelled us much further than anyone expected . your diplomacy prevented a debilitating civil conflict in honduras that would have destabilized central america and undermined two decades of our efforts . we now have a big opportunity in front of us , and for that we are grateful to you . regards , tom\", 2)\n"
     ]
    }
   ],
   "source": [
    "train_data = []\n",
    "train_inp_file = 'processed_data/GCDC/Clinton_train.jsonl'\n",
    "with open(train_inp_file, 'r') as f:\n",
    "    for line in f:\n",
    "        json_obj = json.loads(line)\n",
    "        # put <EOS> at the end of each sentence and add each sentence to the list\n",
    "        # for i in range(len(json_obj['sentences'])):\n",
    "        #     json_obj['sentences'][i].append('<EOS>')\n",
    "        # merge all sentences into one\n",
    "        document = \" \".join([word for sentence in json_obj['sentences'] for word in sentence])\n",
    "        document = document.lower()\n",
    "        label = json_obj['label']\n",
    "        train_data.append((document, label-1))\n",
    "   \n",
    "\n",
    "test_data = []\n",
    "test_inp_file = 'processed_data/GCDC/Clinton_test.jsonl'\n",
    "with open(test_inp_file, 'r') as f:\n",
    "    for line in f:\n",
    "        json_obj = json.loads(line)\n",
    "        # put <EOS> at the end of each sentence and add each sentence to the list\n",
    "        # for i in range(len(json_obj['sentences'])):\n",
    "        #     json_obj['sentences'][i].append('<EOS>')\n",
    "        # merge all sentences into one\n",
    "        document = \" \".join([word for sentence in json_obj['sentences'] for word in sentence])\n",
    "        document = document.lower()\n",
    "        label = json_obj['label']\n",
    "        test_data.append((document, label-1))\n",
    "        \n",
    "print(len(train_data))\n",
    "print(train_data[0])\n",
    "print(train_data[1])\n",
    "print(train_data[2])\n",
    "print(len(test_data))\n",
    "print(test_data[0])"
   ]
  },
  {
   "cell_type": "code",
   "execution_count": 3,
   "metadata": {},
   "outputs": [],
   "source": [
    "tokenizer = BertTokenizer.from_pretrained('bert-base-cased')\n",
    "train_encodings = tokenizer([x[0] for x in train_data], truncation=True, padding=True, return_tensors=\"pt\")\n",
    "test_encodings = tokenizer([x[0] for x in test_data], truncation=True, padding=True, return_tensors=\"pt\")\n",
    "\n",
    "class GCDCDataset(Dataset):\n",
    "    def __init__(self, encodings, labels):\n",
    "        self.encodings = encodings\n",
    "        self.labels = torch.tensor(labels)\n",
    "        \n",
    "    def __getitem__(self, idx):\n",
    "        item = {key: torch.tensor(val[idx]) for key, val in self.encodings.items()}\n",
    "        item['labels'] = self.labels[idx]\n",
    "        return item\n",
    "    \n",
    "    def __len__(self):\n",
    "        return len(self.labels)\n",
    "    \n",
    "train_dataset = GCDCDataset(train_encodings, [x[1] for x in train_data])\n",
    "test_dataset = GCDCDataset(test_encodings, [x[1] for x in test_data])"
   ]
  },
  {
   "cell_type": "code",
   "execution_count": 4,
   "metadata": {},
   "outputs": [
    {
     "name": "stdout",
     "output_type": "stream",
     "text": [
      "tensor([  101,  1160,  6665,  1103,  1366,  4696,  1103, 23512,  1569,  3193,\n",
      "         1112,  1103,  6753,   120,  1178, 11582,  9455, 27089, 21017,  1197,\n",
      "         1104,  1103,   181, 13292,  6582,  1234,  1219,  1142, 10572,  1669,\n",
      "          117,  1112,   181, 13292,  6582,  1116,  1435,  1487,  1106,  2197,\n",
      "         1147,  1319,  2174,  1105,   170,  4088,   117, 21783,  7950,  1449,\n",
      "         1115, 19819,  1103,  2266,  1104,  1155,   181, 13292,  6582,  1116,\n",
      "          119,  1142,  1110,  1107,  5014,  1106,  1103,   186,  3556,  2328,\n",
      "         8702,  6716,   117,  1134,  1144,  1575,  1155, 25844,  1106,  3013,\n",
      "          119,  1103,  1366,  4696,  1103, 23512,  1569,  3193,  1112,  1103,\n",
      "        11582,  9455, 27089, 21017,  1197,  1104,  1103,   181, 13292,  6582,\n",
      "         1234,  1219,  1142, 10572,  1669,   117,  1112,   181, 13292,  6582,\n",
      "         1116,  1435,  1487,  1106,  2197,  1147,  1319,  2174,  1105,   170,\n",
      "         4088,   117, 21783,  7950,  1449,  1115, 19819,  1103,  2266,  1104,\n",
      "         1155,   181, 13292,  6582,  1116,   119,  1142,  1110,  1107,  5014,\n",
      "         1106,  1103,   186,  3556,  2328,  8702,  6716,   117,  1134,  1144,\n",
      "         1575,  1155, 25844,  1106,  3013,   119,  1103,  1107,  1665,  1110,\n",
      "         1103,  5375,  1194,  1134,  1195,  1132, 12368,  1103,   181, 13292,\n",
      "         6582,  1234,  1120,  1142,  1159,   119,   102,     0,     0,     0,\n",
      "            0,     0,     0,     0,     0,     0,     0,     0,     0,     0,\n",
      "            0,     0,     0,     0,     0,     0,     0,     0,     0,     0,\n",
      "            0,     0,     0,     0,     0,     0,     0,     0,     0,     0,\n",
      "            0,     0,     0,     0,     0,     0,     0,     0,     0,     0,\n",
      "            0,     0,     0,     0,     0,     0,     0,     0,     0,     0,\n",
      "            0,     0,     0,     0,     0,     0,     0,     0,     0,     0,\n",
      "            0,     0,     0,     0,     0,     0,     0,     0,     0,     0,\n",
      "            0,     0,     0,     0,     0,     0,     0,     0,     0,     0,\n",
      "            0,     0,     0,     0,     0,     0,     0,     0,     0,     0,\n",
      "            0,     0,     0,     0,     0,     0,     0,     0,     0,     0,\n",
      "            0,     0,     0,     0,     0,     0,     0,     0,     0,     0,\n",
      "            0,     0,     0,     0,     0,     0,     0,     0,     0,     0,\n",
      "            0,     0,     0,     0,     0,     0,     0,     0,     0,     0,\n",
      "            0,     0,     0,     0,     0,     0,     0,     0,     0,     0,\n",
      "            0,     0,     0,     0,     0,     0,     0,     0,     0,     0,\n",
      "            0,     0,     0,     0,     0,     0,     0,     0,     0,     0,\n",
      "            0,     0,     0,     0,     0,     0,     0,     0,     0,     0,\n",
      "            0,     0,     0,     0,     0,     0,     0,     0,     0,     0,\n",
      "            0,     0,     0,     0,     0,     0,     0,     0,     0,     0,\n",
      "            0,     0,     0,     0,     0,     0,     0,     0,     0,     0,\n",
      "            0,     0,     0,     0,     0,     0,     0,     0,     0,     0,\n",
      "            0,     0,     0,     0,     0,     0,     0,     0,     0,     0,\n",
      "            0,     0,     0,     0,     0,     0,     0,     0,     0,     0,\n",
      "            0,     0,     0,     0,     0,     0,     0,     0,     0,     0,\n",
      "            0,     0,     0,     0,     0,     0,     0,     0,     0,     0,\n",
      "            0,     0,     0,     0,     0,     0,     0,     0,     0,     0,\n",
      "            0,     0,     0,     0,     0,     0,     0,     0,     0,     0,\n",
      "            0,     0,     0,     0,     0,     0,     0,     0,     0,     0,\n",
      "            0,     0,     0,     0,     0,     0,     0,     0,     0,     0,\n",
      "            0,     0,     0,     0,     0,     0,     0,     0,     0,     0,\n",
      "            0,     0,     0,     0,     0,     0,     0,     0,     0,     0,\n",
      "            0,     0,     0,     0,     0,     0,     0])\n",
      "[CLS] two options the us views the transitional national council as the sole / only legitimate interlocutor of the libyan people during this interim period, as libyans come together to plan their own future and a permanent, inclusive constitutional system that protects the rights of all libyans. this is in contrast to the qadhafi regime, which has lost all legitimacy to rule. the us views the transitional national council as the legitimate interlocutor of the libyan people during this interim period, as libyans come together to plan their own future and a permanent, inclusive constitutional system that protects the rights of all libyans. this is in contrast to the qadhafi regime, which has lost all legitimacy to rule. the inc is the institution through which we are engaging the libyan people at this time. [SEP] [PAD] [PAD] [PAD] [PAD] [PAD] [PAD] [PAD] [PAD] [PAD] [PAD] [PAD] [PAD] [PAD] [PAD] [PAD] [PAD] [PAD] [PAD] [PAD] [PAD] [PAD] [PAD] [PAD] [PAD] [PAD] [PAD] [PAD] [PAD] [PAD] [PAD] [PAD] [PAD] [PAD] [PAD] [PAD] [PAD] [PAD] [PAD] [PAD] [PAD] [PAD] [PAD] [PAD] [PAD] [PAD] [PAD] [PAD] [PAD] [PAD] [PAD] [PAD] [PAD] [PAD] [PAD] [PAD] [PAD] [PAD] [PAD] [PAD] [PAD] [PAD] [PAD] [PAD] [PAD] [PAD] [PAD] [PAD] [PAD] [PAD] [PAD] [PAD] [PAD] [PAD] [PAD] [PAD] [PAD] [PAD] [PAD] [PAD] [PAD] [PAD] [PAD] [PAD] [PAD] [PAD] [PAD] [PAD] [PAD] [PAD] [PAD] [PAD] [PAD] [PAD] [PAD] [PAD] [PAD] [PAD] [PAD] [PAD] [PAD] [PAD] [PAD] [PAD] [PAD] [PAD] [PAD] [PAD] [PAD] [PAD] [PAD] [PAD] [PAD] [PAD] [PAD] [PAD] [PAD] [PAD] [PAD] [PAD] [PAD] [PAD] [PAD] [PAD] [PAD] [PAD] [PAD] [PAD] [PAD] [PAD] [PAD] [PAD] [PAD] [PAD] [PAD] [PAD] [PAD] [PAD] [PAD] [PAD] [PAD] [PAD] [PAD] [PAD] [PAD] [PAD] [PAD] [PAD] [PAD] [PAD] [PAD] [PAD] [PAD] [PAD] [PAD] [PAD] [PAD] [PAD] [PAD] [PAD] [PAD] [PAD] [PAD] [PAD] [PAD] [PAD] [PAD] [PAD] [PAD] [PAD] [PAD] [PAD] [PAD] [PAD] [PAD] [PAD] [PAD] [PAD] [PAD] [PAD] [PAD] [PAD] [PAD] [PAD] [PAD] [PAD] [PAD] [PAD] [PAD] [PAD] [PAD] [PAD] [PAD] [PAD] [PAD] [PAD] [PAD] [PAD] [PAD] [PAD] [PAD] [PAD] [PAD] [PAD] [PAD] [PAD] [PAD] [PAD] [PAD] [PAD] [PAD] [PAD] [PAD] [PAD] [PAD] [PAD] [PAD] [PAD] [PAD] [PAD] [PAD] [PAD] [PAD] [PAD] [PAD] [PAD] [PAD] [PAD] [PAD] [PAD] [PAD] [PAD] [PAD] [PAD] [PAD] [PAD] [PAD] [PAD] [PAD] [PAD] [PAD] [PAD] [PAD] [PAD] [PAD] [PAD] [PAD] [PAD] [PAD] [PAD] [PAD] [PAD] [PAD] [PAD] [PAD] [PAD] [PAD] [PAD] [PAD] [PAD] [PAD] [PAD] [PAD] [PAD] [PAD] [PAD] [PAD] [PAD] [PAD] [PAD] [PAD] [PAD] [PAD] [PAD] [PAD] [PAD] [PAD] [PAD] [PAD] [PAD] [PAD] [PAD] [PAD] [PAD] [PAD] [PAD] [PAD] [PAD] [PAD] [PAD] [PAD] [PAD] [PAD] [PAD] [PAD] [PAD] [PAD] [PAD] [PAD] [PAD] [PAD] [PAD] [PAD] [PAD] [PAD] [PAD] [PAD] [PAD] [PAD] [PAD] [PAD] [PAD] [PAD] [PAD] [PAD] [PAD] [PAD] [PAD] [PAD] [PAD] [PAD]\n"
     ]
    }
   ],
   "source": [
    "print(train_encodings['input_ids'][0])\n",
    "print(tokenizer.decode(train_encodings['input_ids'][0]))"
   ]
  },
  {
   "cell_type": "code",
   "execution_count": 5,
   "metadata": {},
   "outputs": [],
   "source": [
    "train_loader = DataLoader(train_dataset, batch_size=batch_size, shuffle=True)\n",
    "test_loader = DataLoader(test_dataset, batch_size=batch_size, shuffle=True)"
   ]
  },
  {
   "cell_type": "code",
   "execution_count": 6,
   "metadata": {},
   "outputs": [
    {
     "name": "stderr",
     "output_type": "stream",
     "text": [
      "Some weights of the model checkpoint at bert-base-cased were not used when initializing BertForSequenceClassification: ['cls.seq_relationship.bias', 'cls.predictions.transform.LayerNorm.bias', 'cls.predictions.bias', 'cls.seq_relationship.weight', 'cls.predictions.transform.dense.bias', 'cls.predictions.transform.dense.weight', 'cls.predictions.transform.LayerNorm.weight', 'cls.predictions.decoder.weight']\n",
      "- This IS expected if you are initializing BertForSequenceClassification from the checkpoint of a model trained on another task or with another architecture (e.g. initializing a BertForSequenceClassification model from a BertForPreTraining model).\n",
      "- This IS NOT expected if you are initializing BertForSequenceClassification from the checkpoint of a model that you expect to be exactly identical (initializing a BertForSequenceClassification model from a BertForSequenceClassification model).\n",
      "Some weights of BertForSequenceClassification were not initialized from the model checkpoint at bert-base-cased and are newly initialized: ['classifier.bias', 'classifier.weight']\n",
      "You should probably TRAIN this model on a down-stream task to be able to use it for predictions and inference.\n"
     ]
    }
   ],
   "source": [
    "# build model\n",
    "# model = BertForSequenceClassification.from_pretrained('bert-base-cased', num_labels=3)\n",
    "# load model from file\n",
    "model = BertForSequenceClassification.from_pretrained('bert-base-cased', num_labels=3)\n",
    "model.load_state_dict(torch.load('./bert_clinton.pt'))\n",
    "model.to(device)\n",
    "optimizer = optim.Adam(model.parameters(), lr=1e-5)\n",
    "criterion = nn.CrossEntropyLoss()"
   ]
  },
  {
   "cell_type": "code",
   "execution_count": 7,
   "metadata": {},
   "outputs": [],
   "source": [
    "def evaluate(model, iterator, criterion):\n",
    "    epoch_loss = 0\n",
    "    epoch_acc = 0\n",
    "    model.eval()\n",
    "    with torch.no_grad():\n",
    "        for batch in iterator:\n",
    "            input_ids = batch['input_ids'].to(device)\n",
    "            attention_mask = batch['attention_mask'].to(device)\n",
    "            labels = batch['labels'].to(device)\n",
    "            outputs = model(input_ids, attention_mask=attention_mask, labels=labels)\n",
    "            loss = outputs[0]\n",
    "            logits = outputs[1]\n",
    "            _, preds = torch.max(logits, dim=1)\n",
    "            epoch_loss += loss.item()\n",
    "            epoch_acc += torch.sum(preds == labels).item() / len(labels)\n",
    "    return epoch_loss / len(iterator), epoch_acc / len(iterator)"
   ]
  },
  {
   "cell_type": "code",
   "execution_count": 8,
   "metadata": {},
   "outputs": [
    {
     "name": "stderr",
     "output_type": "stream",
     "text": [
      "/tmp/ipykernel_177423/653875629.py:11: UserWarning: To copy construct from a tensor, it is recommended to use sourceTensor.clone().detach() or sourceTensor.clone().detach().requires_grad_(True), rather than torch.tensor(sourceTensor).\n",
      "  item = {key: torch.tensor(val[idx]) for key, val in self.encodings.items()}\n"
     ]
    },
    {
     "name": "stdout",
     "output_type": "stream",
     "text": [
      "              precision    recall  f1-score   support\n",
      "\n",
      "           0       0.56      0.37      0.45        51\n",
      "           1       0.56      0.13      0.21        38\n",
      "           2       0.67      0.95      0.78       111\n",
      "\n",
      "    accuracy                           0.65       200\n",
      "   macro avg       0.59      0.48      0.48       200\n",
      "weighted avg       0.62      0.65      0.59       200\n",
      "\n",
      "\tTest Loss: 0.895 | Test Acc: 64.50%\n"
     ]
    },
    {
     "name": "stderr",
     "output_type": "stream",
     "text": [
      "/tmp/ipykernel_177423/653875629.py:11: UserWarning: To copy construct from a tensor, it is recommended to use sourceTensor.clone().detach() or sourceTensor.clone().detach().requires_grad_(True), rather than torch.tensor(sourceTensor).\n",
      "  item = {key: torch.tensor(val[idx]) for key, val in self.encodings.items()}\n"
     ]
    },
    {
     "name": "stdout",
     "output_type": "stream",
     "text": [
      "[[ 19   4  28]\n",
      " [  9   5  24]\n",
      " [  6   0 105]]\n"
     ]
    },
    {
     "data": {
      "image/png": "[encoded data removed]",
      "text/plain": [
       "<Figure size 640x480 with 1 Axes>"
      ]
     },
     "metadata": {},
     "output_type": "display_data"
    }
   ],
   "source": [
    "from sklearn.metrics import confusion_matrix, classification_report\n",
    "import seaborn as sns\n",
    "import matplotlib.pyplot as plt\n",
    "\n",
    "def evaluate(model, iterator, criterion):\n",
    "    epoch_loss = 0\n",
    "    epoch_acc = 0\n",
    "    model.eval()\n",
    "    y_pred = []\n",
    "    y_true = []\n",
    "    with torch.no_grad():\n",
    "        for batch in iterator:\n",
    "            input_ids = batch['input_ids'].to(device)\n",
    "            attention_mask = batch['attention_mask'].to(device)\n",
    "            labels = batch['labels'].to(device)\n",
    "            outputs = model(input_ids, attention_mask=attention_mask, labels=labels)\n",
    "            loss = outputs[0]\n",
    "            logits = outputs[1]\n",
    "            _, preds = torch.max(logits, dim=1)\n",
    "            y_pred.extend(preds.tolist())\n",
    "            y_true.extend(labels.tolist())\n",
    "            epoch_loss += loss.item()\n",
    "            epoch_acc += torch.sum(preds == labels).item() / len(labels)\n",
    "    print(classification_report(y_true, y_pred))\n",
    "    return epoch_loss / len(iterator), epoch_acc / len(iterator)\n",
    "\n",
    "test_loss, test_acc = evaluate(model, test_loader, criterion)\n",
    "print(f'\\tTest Loss: {test_loss:.3f} | Test Acc: {test_acc*100:.2f}%')\n",
    "\n",
    "y_pred = []\n",
    "y_true = []\n",
    "with torch.no_grad():\n",
    "    for batch in test_loader:\n",
    "        input_ids = batch['input_ids'].to(device)\n",
    "        attention_mask = batch['attention_mask'].to(device)\n",
    "        labels = batch['labels'].to(device)\n",
    "        outputs = model(input_ids, attention_mask=attention_mask, labels=labels)\n",
    "        loss = outputs[0]\n",
    "        logits = outputs[1]\n",
    "        _, preds = torch.max(logits, dim=1)\n",
    "        y_pred.extend(preds.tolist())\n",
    "        y_true.extend(labels.tolist())\n",
    "    \n",
    "cm = confusion_matrix(y_true, y_pred)\n",
    "print(cm)\n",
    "sns.heatmap(cm, annot=True, fmt='d', cmap='Blues', cbar=False, xticklabels=['incoherent', 'neutral', 'coherent'], yticklabels=['incoherent', 'neutral', 'coherent'])\n",
    "plt.show()"
   ]
  },
  {
   "cell_type": "code",
   "execution_count": 13,
   "metadata": {},
   "outputs": [],
   "source": [
    "# predict on a single document\n",
    "def predict(model, document):\n",
    "    model.eval()\n",
    "    with torch.no_grad():\n",
    "        inputs = tokenizer(document, truncation=True, padding=True, return_tensors=\"pt\").to(device)\n",
    "        outputs = model(**inputs)\n",
    "        logits = outputs[0]\n",
    "        _, preds = torch.max(logits, dim=1)\n",
    "        return preds.item()\n"
   ]
  },
  {
   "cell_type": "code",
   "execution_count": 19,
   "metadata": {},
   "outputs": [
    {
     "name": "stdout",
     "output_type": "stream",
     "text": [
      "2\n",
      "2\n"
     ]
    }
   ],
   "source": [
    "print(predict(model, 'Two options\\n\\nThe US views the Transitional National Council as the sole/only legitimate interlocutor of the Libyan people during this interim period, as Libyans come together to plan their own future and a permanent, inclusive constitutional system that protects the rights of all Libyans. This is in contrast to the Qadhafi regime, which has lost all legitimacy to rule.\\n\\nThe US views the Transitional National Council as the legitimate interlocutor of the Libyan people during this interim period, as Libyans come together to plan their own future and a permanent, inclusive constitutional system that protects the rights of all Libyans. This is in contrast to the Qadhafi regime, which has lost all legitimacy to rule. The INC is the institution through which we are engaging the Libyan people at this time.'))\n",
    "print(predict(model, 'My guess is that he is calling about Honduras. He, like many other leaders with an interest in Central America, is worried that Honduras is slipping towards confrontation and violence. He probably does not think Insulza is up to the task. S should be aware that Arias is prepared to offer his services. I spoke with the Costa Rican FonMin, who said the de facto government has reached out to Arias, and that the Costa Ricans will be looking for a way to make the offer to Zelaya. Uribe knows Zelaya and has some influence. Uribe might want to talk with Arias and offer to help move Zelaya in the right direction. (Although Uribe and Zelaya come from different ends of the political spectrum, they are both ranchers and love horses, and this has created some comradeship.'))\n"
   ]
  },
  {
   "cell_type": "code",
   "execution_count": 21,
   "metadata": {},
   "outputs": [],
   "source": [
    "# save each test document and its prediction and true value in a json file\n",
    "with open('bert_clinton_test.json', 'w') as f:\n",
    "    json.dump([{'text': x[0], 'prediction': predict(model, x[0]), 'true': x[1]} for x in test_data], f, indent=4)\n",
    "    \n"
   ]
  },
  {
   "cell_type": "code",
   "execution_count": 26,
   "metadata": {},
   "outputs": [],
   "source": [
    "# load the sentences from the X.txt file\n",
    "with open('./X.txt') as f:\n",
    "    X = json.load(f)\n",
    "\n",
    "# predict on each sentence\n",
    "predictions = [predict(model, x) for x in X]\n",
    "\n",
    "# save the predictions in a json file along with the sentences\n",
    "with open('bert_clinton_predictions_for_X.json', 'w') as f:\n",
    "    json.dump([{'text': x[0], 'prediction': x[1]} for x in zip(X, predictions)], f, indent=4)\n",
    "    \n",
    "\n"
   ]
  },
  {
   "cell_type": "code",
   "execution_count": null,
   "metadata": {},
   "outputs": [],
   "source": []
  }
 ],
 "metadata": {
  "kernelspec": {
   "display_name": "Python 3",
   "language": "python",
   "name": "python3"
  },
  "language_info": {
   "codemirror_mode": {
    "name": "ipython",
    "version": 3
   },
   "file_extension": ".py",
   "mimetype": "text/x-python",
   "name": "python",
   "nbconvert_exporter": "python",
   "pygments_lexer": "ipython3",
   "version": "3.10.6"
  },
  "orig_nbformat": 4
 },
 "nbformat": 4,
 "nbformat_minor": 2
}
