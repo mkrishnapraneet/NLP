{
 "cells": [
  {
   "cell_type": "code",
   "execution_count": 1,
   "metadata": {},
   "outputs": [
    {
     "name": "stdout",
     "output_type": "stream",
     "text": [
      "{'sentence', 'second', 'first', 'is', 'This', 'the', 'third'}\n"
     ]
    }
   ],
   "source": [
    "sentences = [[\"This\", \"is\", \"the\", \"first\", \"sentence\"], [\"This\", \"is\", \"the\", \"second\", \"sentence\"], [\"This\", \"is\", \"the\", \"third\", \"sentence\"]]\n",
    "\n",
    "# Flatten the list of sentences into a single list of words\n",
    "words = [word for sentence in sentences for word in sentence]\n",
    "\n",
    "# Create a set of unique words to form the vocabulary\n",
    "vocabulary = set(words)\n",
    "\n",
    "print(vocabulary)"
   ]
  },
  {
   "cell_type": "code",
   "execution_count": null,
   "metadata": {},
   "outputs": [],
   "source": []
  }
 ],
 "metadata": {
  "kernelspec": {
   "display_name": "Python 3",
   "language": "python",
   "name": "python3"
  },
  "language_info": {
   "codemirror_mode": {
    "name": "ipython",
    "version": 3
   },
   "file_extension": ".py",
   "mimetype": "text/x-python",
   "name": "python",
   "nbconvert_exporter": "python",
   "pygments_lexer": "ipython3",
   "version": "3.10.6"
  },
  "orig_nbformat": 4
 },
 "nbformat": 4,
 "nbformat_minor": 2
}
