{
 "cells": [
  {
   "cell_type": "code",
   "execution_count": 24,
   "metadata": {},
   "outputs": [],
   "source": [
    "import numpy as np\n",
    "import matplotlib.pyplot as plt\n",
    "import json\n",
    "from nltk.tokenize import sent_tokenize, word_tokenize\n",
    "import collections\n",
    "import itertools\n",
    "from sklearn.decomposition import TruncatedSVD\n",
    "from sklearn.manifold import TSNE"
   ]
  },
  {
   "cell_type": "code",
   "execution_count": 25,
   "metadata": {},
   "outputs": [
    {
     "name": "stdout",
     "output_type": "stream",
     "text": [
      "Number of sentences: 315157\n",
      "['this', 'has', 'some', 'great', 'tips', 'as', 'always', 'and', 'is', 'helping', 'me', 'to', 'complete', 'my', 'good', 'eats', 'collection', '.']\n"
     ]
    }
   ],
   "source": [
    "fixed_window_size = 2  #on both sides of the word\n",
    "input_file = '../../reviews_Movies_and_TV.json'\n",
    "# input_file = 'try.json'\n",
    "\n",
    "# Load the data\n",
    "sentences = []\n",
    "counter = 0\n",
    "with open(input_file, 'r') as f:\n",
    "    for line in f:\n",
    "        if counter > 50000:\n",
    "            break\n",
    "        # add each sentence as a list of words to the sentences list, but each line of the json object is a document containing multiple sentences\n",
    "        # sentences.append(word_tokenize(json.loads(line)['reviewText']))\n",
    "        doc_sentences = sent_tokenize(json.loads(line)['reviewText'])\n",
    "        # sentences.append([word_tokenize(sentence) for sentence in doc_sentences])\n",
    "        for sentence in doc_sentences:\n",
    "            sentences.append([word.lower() for word in word_tokenize(sentence)])\n",
    "        counter += 1\n",
    "        \n",
    "\n",
    "print('Number of sentences: {}'.format(len(sentences)))\n",
    "print(sentences[0])\n",
    "\n",
    "# for sentence in sentences:\n",
    "#     print(sentence)\n",
    "\n",
    "    "
   ]
  },
  {
   "cell_type": "code",
   "execution_count": 26,
   "metadata": {},
   "outputs": [
    {
     "name": "stdout",
     "output_type": "stream",
     "text": [
      "Vocabulary size: 27521\n",
      "The 10 most common words are: \n",
      "[('the', 343600), (',', 278064), ('.', 272598), ('and', 181342), ('a', 160983), ('of', 154338), ('to', 138051), ('is', 124059), ('it', 108617), ('i', 103332)]\n"
     ]
    }
   ],
   "source": [
    "# form the vocabulary\n",
    "# Flatten the list of sentences into a single list of words\n",
    "words = itertools.chain.from_iterable(sentences)\n",
    "\n",
    "# Create a Counter object to count the frequency of each word\n",
    "word_counter = collections.Counter(words)\n",
    "\n",
    "# Extract the unique words from the Counter object to form the vocabulary\n",
    "min_freq = 5\n",
    "# vocabulary = set(word_counter.keys())\n",
    "# vocabulary = set(word for word, count in word_counter.items() if count >= min_freq)\n",
    "# add the word if it occurs more than min_freq times, else add <unk> token\n",
    "vocabulary = set(word if count >= min_freq else '<unk>' for word, count in word_counter.items())\n",
    "\n",
    "\n",
    "# Print the size of the vocabulary\n",
    "print('Vocabulary size: {}'.format(len(vocabulary)))\n",
    "\n",
    "# Create a dictionary to map each word to an index\n",
    "word2idx = {word: idx for idx, word in enumerate(vocabulary)}\n",
    "\n",
    "# Create a dictionary to map each index to a word\n",
    "idx2word = {idx: word for idx, word in enumerate(vocabulary)}\n",
    "\n",
    "# print the 10 most common words\n",
    "print('The 10 most common words are: ')\n",
    "print(word_counter.most_common(10))"
   ]
  },
  {
   "cell_type": "code",
   "execution_count": 27,
   "metadata": {},
   "outputs": [],
   "source": [
    "# Initialize the co-occurrence matrix\n",
    "co_occurrence_matrix = np.zeros((len(vocabulary), len(vocabulary)), dtype=np.float32)\n",
    "\n",
    "# Fill in the entries of the co-occurrence matrix\n",
    "for sentence in sentences:\n",
    "    indices = [word2idx[word] for word in sentence if word in vocabulary]\n",
    "    for center_word_pos in range(len(indices)):\n",
    "        for w in range(-fixed_window_size, fixed_window_size+1):\n",
    "            context_word_pos = center_word_pos + w\n",
    "            # make sure not jump out sentence\n",
    "            if context_word_pos < 0 or context_word_pos >= len(indices) or center_word_pos == context_word_pos:\n",
    "                continue\n",
    "            context_word_idx = indices[context_word_pos]\n",
    "            co_occurrence_matrix[indices[center_word_pos], context_word_idx] += 1\n",
    "            co_occurrence_matrix[context_word_idx, indices[center_word_pos]] += 1\n",
    "\n",
    "# print the co-occurrence matrix along with the words\n",
    "# print('Co-occurrence matrix')\n",
    "# print(co_occurrence_matrix)\n"
   ]
  },
  {
   "cell_type": "code",
   "execution_count": 28,
   "metadata": {},
   "outputs": [
    {
     "name": "stdout",
     "output_type": "stream",
     "text": [
      "Shape of the Co-occurrence matrix : (27521, 27521)\n",
      "Co-occurrence of \"the\" and \"it\": 11962.0\n",
      "Co-occurrence of \"the\" and \"movie\": 37158.0\n",
      "Co-occurrence of \"the\" and \"and\": 68862.0\n",
      "Co-occurrence of \"the\" and \"button\": 80.0\n",
      "Co-occurrence of \"holy\" and \"button\": 0.0\n"
     ]
    }
   ],
   "source": [
    "# print the shape of the co-occurrence matrix\n",
    "print('Shape of the Co-occurrence matrix : {}'.format(co_occurrence_matrix.shape))\n",
    "\n",
    "# Print the number of times that the words 'the' and 'it' co-occur\n",
    "print('Co-occurrence of \"the\" and \"it\": {}'.format(co_occurrence_matrix[word2idx['the'], word2idx['it']]))\n",
    "\n",
    "# Print the number of times that the words 'the' and 'movie' co-occur\n",
    "print('Co-occurrence of \"the\" and \"movie\": {}'.format(co_occurrence_matrix[word2idx['the'], word2idx['movie']]))\n",
    "\n",
    "# Print the number of times that the words 'the' and 'and' co-occur\n",
    "print('Co-occurrence of \"the\" and \"and\": {}'.format(co_occurrence_matrix[word2idx['the'], word2idx['and']]))\n",
    "\n",
    "# Print the number of times that the words 'the' and 'button' co-occur\n",
    "print('Co-occurrence of \"the\" and \"button\": {}'.format(co_occurrence_matrix[word2idx['the'], word2idx['button']]))\n",
    "\n",
    "# Print the number of times that the words 'holy' and 'button' co-occur\n",
    "print('Co-occurrence of \"holy\" and \"button\": {}'.format(co_occurrence_matrix[word2idx['holy'], word2idx['button']]))"
   ]
  },
  {
   "cell_type": "code",
   "execution_count": 29,
   "metadata": {},
   "outputs": [
    {
     "name": "stdout",
     "output_type": "stream",
     "text": [
      "Shape of reduced co-occurrence matrix: (27521, 300)\n"
     ]
    }
   ],
   "source": [
    "# the number of dimensions of the word embeddings\n",
    "embedding_dims = 300\n",
    "\n",
    "# use sklearn to perform SVD\n",
    "svd = TruncatedSVD(n_components=embedding_dims, algorithm='arpack', n_iter=30, random_state=456, tol=0)\n",
    "reduced_co_occurrence_matrix = svd.fit_transform(co_occurrence_matrix)\n",
    "\n",
    "print('Shape of reduced co-occurrence matrix: {}'.format(reduced_co_occurrence_matrix.shape))"
   ]
  },
  {
   "cell_type": "code",
   "execution_count": 30,
   "metadata": {},
   "outputs": [],
   "source": [
    "# # visualize the word embeddings of a few words\n",
    "words_to_visualise = ['girl', 'boy', 'man', 'woman', 'titanic', 'cost', 'kid', 'child']\n",
    "# words_to_visualise = ['love', 'sports', 'cricket', 'football', 'i' ,'you', 'playing', 'all', 'we']\n",
    "# word_indices = [word2idx[word] for word in words_to_visualise]\n",
    "# word_vectors = reduced_co_occurrence_matrix[word_indices, :]\n",
    "# plt.figure(figsize=(10, 10))\n",
    "# plt.scatter(word_vectors[:, 0], word_vectors[:, 1], edgecolors='k', c='r')\n",
    "# for word, (x0, x1) in zip(words_to_visualise, word_vectors):\n",
    "#     plt.text(x0+0.05, x1+0.05, word)\n",
    "# plt.show()"
   ]
  },
  {
   "cell_type": "code",
   "execution_count": 31,
   "metadata": {},
   "outputs": [],
   "source": [
    "# plot the euclidean distance between pairs of words in the words_to_visualise list\n",
    "def euclidean_distance(x, y):\n",
    "    return np.sqrt(np.sum((x-y)**2))\n",
    "\n",
    "# compute cosine similarity function\n",
    "def cosine_similarity(x, y):\n",
    "    return np.dot(x, y)/(np.sqrt(np.sum(x**2))*np.sqrt(np.sum(y**2)))\n",
    "\n",
    "# # compute the euclidean distance between all pairs of word embeddings from the words_to_visualise list\n",
    "# distances = np.zeros((len(words_to_visualise), len(words_to_visualise)))\n",
    "# for i, word_i in enumerate(words_to_visualise):\n",
    "#     for j, word_j in enumerate(words_to_visualise):\n",
    "#         distances[i, j] = euclidean_distance(reduced_co_occurrence_matrix[word2idx[word_i]], reduced_co_occurrence_matrix[word2idx[word_j]])\n",
    "\n",
    "# # plot the distances as a heatmap\n",
    "# plt.figure(figsize=(10, 10))\n",
    "# plt.imshow(distances, cmap='hot', interpolation='nearest')\n",
    "# plt.colorbar()\n",
    "# plt.xticks(range(len(words_to_visualise)), words_to_visualise, rotation=45)\n",
    "# plt.yticks(range(len(words_to_visualise)), words_to_visualise)\n",
    "# plt.show()"
   ]
  },
  {
   "cell_type": "code",
   "execution_count": 32,
   "metadata": {},
   "outputs": [
    {
     "name": "stdout",
     "output_type": "stream",
     "text": [
      "The 10 closest (cosine) words to good are: \n",
      "great\n",
      "fine\n",
      "wonderful\n",
      "solid\n",
      "pleasant\n",
      "decent\n",
      "serious\n",
      "terrific\n",
      "strong\n",
      "simple\n",
      "\n",
      "The 10 closest (Euclidean) words to good are: \n",
      "great\n",
      "very\n",
      "little\n",
      "just\n",
      "more\n",
      "or\n",
      "about\n",
      "also\n",
      "she\n",
      "well\n"
     ]
    }
   ],
   "source": [
    "# print the 10 closest words to the word 'titanic'\n",
    "word = 'good'\n",
    "word_idx = word2idx[word]\n",
    "word_vector = reduced_co_occurrence_matrix[word_idx]\n",
    "euc_distances = np.zeros(len(vocabulary))\n",
    "cosine_distances = np.zeros(len(vocabulary))\n",
    "for i, v in enumerate(reduced_co_occurrence_matrix):\n",
    "    euc_distances[i] = euclidean_distance(word_vector, v)\n",
    "    cosine_distances[i] = cosine_similarity(word_vector, v)\n",
    "\n",
    "cos_closest_word_indices = np.argsort(cosine_distances)[::-1][1:11]\n",
    "cos_closest_words = [idx2word[idx] for idx in cos_closest_word_indices]\n",
    "print('The 10 closest (cosine) words to {} are: '.format(word))\n",
    "for i_word in cos_closest_words:\n",
    "    print(i_word)\n",
    "\n",
    "euc_closest_word_indices = np.argsort(euc_distances)[1:11]\n",
    "euc_closest_words = [idx2word[idx] for idx in euc_closest_word_indices]\n",
    "print('\\nThe 10 closest (Euclidean) words to {} are: '.format(word))\n",
    "for i_word in euc_closest_words:\n",
    "    print(i_word)\n",
    "\n",
    "\n"
   ]
  },
  {
   "cell_type": "code",
   "execution_count": 33,
   "metadata": {},
   "outputs": [],
   "source": [
    "# save the word embeddings to disk as a numpy array\n",
    "np.save('word_embeddings.npy', reduced_co_occurrence_matrix)"
   ]
  },
  {
   "cell_type": "code",
   "execution_count": 34,
   "metadata": {},
   "outputs": [
    {
     "data": {
      "image/png": "[encoded data removed]",
      "text/plain": [
       "<Figure size 1000x1000 with 1 Axes>"
      ]
     },
     "metadata": {},
     "output_type": "display_data"
    }
   ],
   "source": [
    "tsne_2d = TSNE(n_components=2, random_state=0)\n",
    "word_vectors_2d = tsne_2d.fit_transform(reduced_co_occurrence_matrix)\n",
    "\n",
    "# visualize the word embeddings of a few words\n",
    "words_to_visualise = words_to_visualise + ['interesting']\n",
    "word_indices = [word2idx[word] for word in words_to_visualise]\n",
    "word_vectors = word_vectors_2d[word_indices, :]\n",
    "plt.figure(figsize=(10, 10))\n",
    "plt.scatter(word_vectors[:, 0], word_vectors[:, 1], edgecolors='k', c='r')\n",
    "for word, (x0, x1) in zip(words_to_visualise, word_vectors):\n",
    "    plt.text(x0+0.05, x1+0.05, word)\n",
    "plt.show()"
   ]
  },
  {
   "cell_type": "code",
   "execution_count": null,
   "metadata": {},
   "outputs": [],
   "source": []
  }
 ],
 "metadata": {
  "kernelspec": {
   "display_name": "Python 3",
   "language": "python",
   "name": "python3"
  },
  "language_info": {
   "codemirror_mode": {
    "name": "ipython",
    "version": 3
   },
   "file_extension": ".py",
   "mimetype": "text/x-python",
   "name": "python",
   "nbconvert_exporter": "python",
   "pygments_lexer": "ipython3",
   "version": "3.10.6"
  },
  "orig_nbformat": 4
 },
 "nbformat": 4,
 "nbformat_minor": 2
}
