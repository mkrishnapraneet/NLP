{
 "cells": [
  {
   "cell_type": "code",
   "execution_count": 22,
   "metadata": {},
   "outputs": [],
   "source": [
    "import numpy as np\n",
    "import matplotlib.pyplot as plt\n",
    "import torch\n",
    "import torch.nn as nn\n",
    "import torch.nn.functional as F\n",
    "from datasets import load_dataset\n",
    "\n",
    "import nltk\n",
    "# nltk.download('punkt')\n",
    "from nltk.tokenize import word_tokenize\n",
    "import torchtext\n",
    "\n",
    "# get dataloader\n",
    "from torch.utils.data import DataLoader\n",
    "from torchtext.vocab import GloVe\n",
    "from nltk.stem import PorterStemmer"
   ]
  },
  {
   "cell_type": "code",
   "execution_count": 23,
   "metadata": {},
   "outputs": [
    {
     "name": "stderr",
     "output_type": "stream",
     "text": [
      "Found cached dataset multi_nli (/home/prani/.cache/huggingface/datasets/multi_nli/default/0.0.0/591f72eb6263d1ab527561777936b199b714cda156d35716881158a2bd144f39)\n"
     ]
    },
    {
     "data": {
      "application/vnd.jupyter.widget-view+json": {
       "model_id": "e729aeaa5cb74132b377d662dd963d17",
       "version_major": 2,
       "version_minor": 0
      },
      "text/plain": [
       "  0%|          | 0/3 [00:00<?, ?it/s]"
      ]
     },
     "metadata": {},
     "output_type": "display_data"
    }
   ],
   "source": [
    "nli_dataset = load_dataset(\"multi_nli\")"
   ]
  },
  {
   "cell_type": "code",
   "execution_count": 24,
   "metadata": {},
   "outputs": [
    {
     "name": "stderr",
     "output_type": "stream",
     "text": [
      "Loading cached processed dataset at /home/prani/.cache/huggingface/datasets/multi_nli/default/0.0.0/591f72eb6263d1ab527561777936b199b714cda156d35716881158a2bd144f39/cache-75119ad20471c39d.arrow\n",
      "Loading cached processed dataset at /home/prani/.cache/huggingface/datasets/multi_nli/default/0.0.0/591f72eb6263d1ab527561777936b199b714cda156d35716881158a2bd144f39/cache-04853eb0cd55f936.arrow\n"
     ]
    },
    {
     "name": "stdout",
     "output_type": "stream",
     "text": [
      "{'train': (392702, 10), 'validation_matched': (9815, 10), 'validation_mismatched': (9832, 10)}\n",
      "(392702, 10)\n",
      "(9815, 10)\n",
      "(392702, 3)\n",
      "(9815, 3)\n"
     ]
    }
   ],
   "source": [
    "print(nli_dataset.shape)\n",
    "train_dataset = nli_dataset[\"train\"]\n",
    "# validation_dataset = nli_dataset[\"validation\"]\n",
    "test_dataset = nli_dataset[\"validation_matched\"]\n",
    "print(train_dataset.shape)\n",
    "# print(validation_dataset.shape)\n",
    "print(test_dataset.shape)\n",
    "\n",
    "# filter out samples with label -1 \n",
    "train_dataset = train_dataset.filter(lambda example: example[\"label\"] != -1)\n",
    "# validation_dataset = validation_dataset.filter(lambda example: example[\"label\"] != -1)\n",
    "test_dataset = test_dataset.filter(lambda example: example[\"label\"] != -1)\n",
    "\n",
    "# remove all columns except premise, hypothesis and label\n",
    "train_dataset = train_dataset.remove_columns([\"promptID\", \"pairID\", \"premise_binary_parse\", \"premise_parse\", \"hypothesis_binary_parse\", \"hypothesis_parse\", \"genre\"])\n",
    "# validation_dataset = validation_dataset.remove_columns([\"promptID\", \"pairID\", \"premise_binary_parse\", \"premise_parse\", \"hypothesis_binary_parse\", \"hypothesis_parse\", \"genre\"])\n",
    "test_dataset = test_dataset.remove_columns([\"promptID\", \"pairID\", \"premise_binary_parse\", \"premise_parse\", \"hypothesis_binary_parse\", \"hypothesis_parse\", \"genre\"])\n",
    "\n",
    "print(train_dataset.shape)\n",
    "# print(validation_dataset.shape)\n",
    "print(test_dataset.shape)"
   ]
  },
  {
   "cell_type": "code",
   "execution_count": 25,
   "metadata": {},
   "outputs": [
    {
     "name": "stderr",
     "output_type": "stream",
     "text": [
      "Loading cached processed dataset at /home/prani/.cache/huggingface/datasets/multi_nli/default/0.0.0/591f72eb6263d1ab527561777936b199b714cda156d35716881158a2bd144f39/cache-b447eeff54cb8c14.arrow\n",
      "Loading cached processed dataset at /home/prani/.cache/huggingface/datasets/multi_nli/default/0.0.0/591f72eb6263d1ab527561777936b199b714cda156d35716881158a2bd144f39/cache-d867bbb04ff35afc.arrow\n"
     ]
    },
    {
     "name": "stdout",
     "output_type": "stream",
     "text": [
      "(392702, 3)\n"
     ]
    }
   ],
   "source": [
    "# convert premise and hypothesis to lower\n",
    "train_dataset = train_dataset.map(lambda example: {\"premise\": example[\"premise\"].lower(), \"hypothesis\": example[\"hypothesis\"].lower()})\n",
    "# validation_dataset = validation_dataset.map(lambda example: {\"premise\": example[\"premise\"].lower(), \"hypothesis\": example[\"hypothesis\"].lower()})\n",
    "test_dataset = test_dataset.map(lambda example: {\"premise\": example[\"premise\"].lower(), \"hypothesis\": example[\"hypothesis\"].lower()})\n",
    "print(train_dataset.shape)"
   ]
  },
  {
   "cell_type": "code",
   "execution_count": 26,
   "metadata": {},
   "outputs": [
    {
     "name": "stderr",
     "output_type": "stream",
     "text": [
      "Loading cached processed dataset at /home/prani/.cache/huggingface/datasets/multi_nli/default/0.0.0/591f72eb6263d1ab527561777936b199b714cda156d35716881158a2bd144f39/cache-dfb123b2ea8ea60e.arrow\n",
      "Loading cached processed dataset at /home/prani/.cache/huggingface/datasets/multi_nli/default/0.0.0/591f72eb6263d1ab527561777936b199b714cda156d35716881158a2bd144f39/cache-ddf23b4751788ff5.arrow\n",
      "Loading cached processed dataset at /home/prani/.cache/huggingface/datasets/multi_nli/default/0.0.0/591f72eb6263d1ab527561777936b199b714cda156d35716881158a2bd144f39/cache-f188b8b053b97678.arrow\n",
      "Loading cached processed dataset at /home/prani/.cache/huggingface/datasets/multi_nli/default/0.0.0/591f72eb6263d1ab527561777936b199b714cda156d35716881158a2bd144f39/cache-c63c058826edb2f1.arrow\n"
     ]
    },
    {
     "name": "stdout",
     "output_type": "stream",
     "text": [
      "(392702, 3)\n",
      "(392702, 3)\n"
     ]
    }
   ],
   "source": [
    "# tokenize premise and hypothesis and concatenate them using [SEP] token\n",
    "train_dataset = train_dataset.map(lambda example: {\"premise\": word_tokenize(example[\"premise\"]), \"hypothesis\": word_tokenize(example[\"hypothesis\"])})\n",
    "# validation_dataset = validation_dataset.map(lambda example: {\"premise\": word_tokenize(example[\"premise\"]), \"hypothesis\": word_tokenize(example[\"hypothesis\"])})\n",
    "test_dataset = test_dataset.map(lambda example: {\"premise\": word_tokenize(example[\"premise\"]), \"hypothesis\": word_tokenize(example[\"hypothesis\"])})\n",
    "print(train_dataset.shape)\n",
    "\n",
    "# # perform stemming\n",
    "# stemmer = PorterStemmer()\n",
    "# train_dataset = train_dataset.map(lambda example: {\"premise\": [stemmer.stem(token) for token in example[\"premise\"]], \"hypothesis\": [stemmer.stem(token) for token in example[\"hypothesis\"]]})\n",
    "# # validation_dataset = validation_dataset.map(lambda example: {\"premise\": [stemmer.stem(token) for token in example[\"premise\"]], \"hypothesis\": [stemmer.stem(token) for token in example[\"hypothesis\"]]})\n",
    "# test_dataset = test_dataset.map(lambda example: {\"premise\": [stemmer.stem(token) for token in example[\"premise\"]], \"hypothesis\": [stemmer.stem(token) for token in example[\"hypothesis\"]]})\n",
    "# print(train_dataset.shape)\n",
    "\n",
    "# concatenate premise and hypothesis using [SEP] token\n",
    "train_dataset = train_dataset.map(lambda example: {\"premise\": example[\"premise\"] + [\"[SEP]\"] + example[\"hypothesis\"]})\n",
    "# validation_dataset = validation_dataset.map(lambda example: {\"premise\": example[\"premise\"] + [\"[SEP]\"] + example[\"hypothesis\"]})\n",
    "test_dataset = test_dataset.map(lambda example: {\"premise\": example[\"premise\"] + [\"[SEP]\"] + example[\"hypothesis\"]})\n",
    "print(train_dataset.shape)\n"
   ]
  },
  {
   "cell_type": "code",
   "execution_count": 27,
   "metadata": {},
   "outputs": [
    {
     "name": "stdout",
     "output_type": "stream",
     "text": [
      "(392702, 2)\n",
      "{'premise': ['conceptually', 'cream', 'skimming', 'has', 'two', 'basic', 'dimensions', '-', 'product', 'and', 'geography', '.', '[SEP]', 'product', 'and', 'geography', 'are', 'what', 'make', 'cream', 'skimming', 'work', '.'], 'label': 1}\n"
     ]
    }
   ],
   "source": [
    "# remove the hypothesis column\n",
    "train_dataset = train_dataset.remove_columns([\"hypothesis\"])\n",
    "# validation_dataset = validation_dataset.remove_columns([\"hypothesis\"])\n",
    "test_dataset = test_dataset.remove_columns([\"hypothesis\"])\n",
    "print(train_dataset.shape)\n",
    "print(train_dataset[0])"
   ]
  },
  {
   "cell_type": "code",
   "execution_count": 28,
   "metadata": {},
   "outputs": [
    {
     "name": "stdout",
     "output_type": "stream",
     "text": [
      "Maximum length of premise + hypothesis: 417\n",
      "Average length of premise + hypothesis: 34.59753197080738\n"
     ]
    }
   ],
   "source": [
    "# find the maximum length of the premise + hypothesis\n",
    "max_length = max([len(example[\"premise\"]) for example in train_dataset])\n",
    "print(f'Maximum length of premise + hypothesis: {max_length}')\n",
    "avg_length = np.mean([len(example[\"premise\"]) for example in train_dataset])\n",
    "print(f'Average length of premise + hypothesis: {avg_length}')"
   ]
  },
  {
   "cell_type": "code",
   "execution_count": 29,
   "metadata": {},
   "outputs": [
    {
     "name": "stdout",
     "output_type": "stream",
     "text": [
      "Percentage of samples with length less than 100: 0.9940947588756869\n"
     ]
    }
   ],
   "source": [
    "# percentage of samples with length less than 100\n",
    "print(f'Percentage of samples with length less than 100: {np.mean([len(example[\"premise\"]) < 100 for example in train_dataset])}')"
   ]
  },
  {
   "cell_type": "code",
   "execution_count": 30,
   "metadata": {},
   "outputs": [
    {
     "name": "stderr",
     "output_type": "stream",
     "text": [
      "Loading cached processed dataset at /home/prani/.cache/huggingface/datasets/multi_nli/default/0.0.0/591f72eb6263d1ab527561777936b199b714cda156d35716881158a2bd144f39/cache-b29643cd0f99772a.arrow\n",
      "Loading cached processed dataset at /home/prani/.cache/huggingface/datasets/multi_nli/default/0.0.0/591f72eb6263d1ab527561777936b199b714cda156d35716881158a2bd144f39/cache-ba1fd73ae093ab7e.arrow\n"
     ]
    }
   ],
   "source": [
    "# truncate the premise + hypothesis to 128 tokens and add padding to the end\n",
    "train_dataset = train_dataset.map(lambda example: {\"premise\": example[\"premise\"][:128] + [\"[PAD]\"] * (128 - len(example[\"premise\"][:128]))})\n",
    "# validation_dataset = validation_dataset.map(lambda example: {\"premise\": example[\"premise\"][:128] + [\"[PAD]\"] * (128 - len(example[\"premise\"][:128]))})\n",
    "test_dataset = test_dataset.map(lambda example: {\"premise\": example[\"premise\"][:128] + [\"[PAD]\"] * (128 - len(example[\"premise\"][:128]))})"
   ]
  },
  {
   "cell_type": "code",
   "execution_count": 31,
   "metadata": {},
   "outputs": [
    {
     "name": "stdout",
     "output_type": "stream",
     "text": [
      "Vocabulary size: 48830\n",
      "['[UNK]', '[PAD]', '[SEP]', 'the', '.', ',', 'to', 'of', 'and', 'a']\n"
     ]
    }
   ],
   "source": [
    "# build vocabulary\n",
    "vocabulary = torchtext.vocab.build_vocab_from_iterator([example[\"premise\"] for example in train_dataset], specials=[\"[UNK]\", \"[PAD]\", \"[SEP]\"], min_freq=5)\n",
    "vocabulary.set_default_index(vocabulary[\"[UNK]\"])\n",
    "\n",
    "print(f'Vocabulary size: {len(vocabulary)}')\n",
    "print(vocabulary.get_itos()[:10])"
   ]
  },
  {
   "cell_type": "code",
   "execution_count": 32,
   "metadata": {},
   "outputs": [
    {
     "name": "stdout",
     "output_type": "stream",
     "text": [
      "cuda\n"
     ]
    }
   ],
   "source": [
    "device = torch.device(\"cuda\" if torch.cuda.is_available() else \"cpu\")\n",
    "print(device)"
   ]
  },
  {
   "cell_type": "code",
   "execution_count": 36,
   "metadata": {},
   "outputs": [
    {
     "name": "stderr",
     "output_type": "stream",
     "text": [
      "Loading cached processed dataset at /home/prani/.cache/huggingface/datasets/multi_nli/default/0.0.0/591f72eb6263d1ab527561777936b199b714cda156d35716881158a2bd144f39/cache-a971036dd711c720.arrow\n",
      "Loading cached processed dataset at /home/prani/.cache/huggingface/datasets/multi_nli/default/0.0.0/591f72eb6263d1ab527561777936b199b714cda156d35716881158a2bd144f39/cache-1e72b49a2ecca68e.arrow\n"
     ]
    },
    {
     "name": "stdout",
     "output_type": "stream",
     "text": [
      "(392702, 2)\n",
      "{'premise': [21245, 3366, 9545, 42, 106, 1230, 8894, 758, 726, 8, 9273, 4, 2, 726, 8, 9273, 19, 57, 126, 3366, 9545, 109, 4, 1, 1, 1, 1, 1, 1, 1, 1, 1, 1, 1, 1, 1, 1, 1, 1, 1, 1, 1, 1, 1, 1, 1, 1, 1, 1, 1, 1, 1, 1, 1, 1, 1, 1, 1, 1, 1, 1, 1, 1, 1, 1, 1, 1, 1, 1, 1, 1, 1, 1, 1, 1, 1, 1, 1, 1, 1, 1, 1, 1, 1, 1, 1, 1, 1, 1, 1, 1, 1, 1, 1, 1, 1, 1, 1, 1, 1, 1, 1, 1, 1, 1, 1, 1, 1, 1, 1, 1, 1, 1, 1, 1, 1, 1, 1, 1, 1, 1, 1, 1, 1, 1, 1, 1, 1], 'label': 1}\n",
      "(392702, 128)\n",
      "(9815, 128)\n",
      "[21245  3366  9545    42   106  1230  8894   758   726     8  9273     4\n",
      "     2   726     8  9273    19    57   126  3366  9545   109     4     1\n",
      "     1     1     1     1     1     1     1     1     1     1     1     1\n",
      "     1     1     1     1     1     1     1     1     1     1     1     1\n",
      "     1     1     1     1     1     1     1     1     1     1     1     1\n",
      "     1     1     1     1     1     1     1     1     1     1     1     1\n",
      "     1     1     1     1     1     1     1     1     1     1     1     1\n",
      "     1     1     1     1     1     1     1     1     1     1     1     1\n",
      "     1     1     1     1     1     1     1     1     1     1     1     1\n",
      "     1     1     1     1     1     1     1     1     1     1     1     1\n",
      "     1     1     1     1     1     1     1     1]\n",
      "(392702,)\n",
      "(9815,)\n"
     ]
    }
   ],
   "source": [
    "# convert the tokens to indices\n",
    "train_indices = train_dataset.map(lambda example: {\"premise\": torch.tensor([vocabulary[token] for token in example[\"premise\"]], dtype=torch.long)})\n",
    "# validation_dataset = validation_dataset.map(lambda example: {\"premise\": torch.tensor([vocabulary[token] for token in example[\"premise\"]], dtype=torch.long)})\n",
    "test_indices = test_dataset.map(lambda example: {\"premise\": torch.tensor([vocabulary[token] for token in example[\"premise\"]], dtype=torch.long)})\n",
    "print(train_indices.shape)\n",
    "print(train_indices[0])\n",
    "\n",
    "train_indices_only = np.array(train_indices[\"premise\"])\n",
    "print(train_indices_only.shape)\n",
    "# validation_indices_only = np.array(validation_dataset[\"premise\"])\n",
    "# print(validation_indices_only.shape)\n",
    "test_indices_only = np.array(test_indices[\"premise\"])\n",
    "print(test_indices_only.shape)\n",
    "\n",
    "print(train_indices_only[0])\n",
    "\n",
    "train_labels_only = np.array(train_dataset[\"label\"])\n",
    "print(train_labels_only.shape)\n",
    "# validation_labels_only = np.array(validation_dataset[\"label\"])\n",
    "# print(validation_labels_only.shape)\n",
    "test_labels_only = np.array(test_dataset[\"label\"])\n",
    "print(test_labels_only.shape)\n"
   ]
  },
  {
   "cell_type": "code",
   "execution_count": 39,
   "metadata": {},
   "outputs": [
    {
     "name": "stdout",
     "output_type": "stream",
     "text": [
      "(392702, 128)\n",
      "(9815, 128)\n",
      "[21245  3366  9545    42   106  1230  8894   758   726     8  9273     4\n",
      "     2   726     8  9273    19    57   126  3366  9545   109     4     1\n",
      "     1     1     1     1     1     1     1     1     1     1     1     1\n",
      "     1     1     1     1     1     1     1     1     1     1     1     1\n",
      "     1     1     1     1     1     1     1     1     1     1     1     1\n",
      "     1     1     1     1     1     1     1     1     1     1     1     1\n",
      "     1     1     1     1     1     1     1     1     1     1     1     1\n",
      "     1     1     1     1     1     1     1     1     1     1     1     1\n",
      "     1     1     1     1     1     1     1     1     1     1     1     1\n",
      "     1     1     1     1     1     1     1     1     1     1     1     1\n",
      "     1     1     1     1     1     1     1     1]\n",
      "[   3   90  979   19  399  256    2  345   99 2031    3 6176  403    1\n",
      "    1    1    1    1    1    1    1    1    1    1    1    1    1    1\n",
      "    1    1    1    1    1    1    1    1    1    1    1    1    1    1\n",
      "    1    1    1    1    1    1    1    1    1    1    1    1    1    1\n",
      "    1    1    1    1    1    1    1    1    1    1    1    1    1    1\n",
      "    1    1    1    1    1    1    1    1    1    1    1    1    1    1\n",
      "    1    1    1    1    1    1    1    1    1    1    1    1    1    1\n",
      "    1    1    1    1    1    1    1    1    1    1    1    1    1    1\n",
      "    1    1    1    1    1    1    1    1    1    1    1    1    1    1\n",
      "    1    1]\n",
      "(392702,)\n",
      "(9815,)\n",
      "1\n",
      "1\n"
     ]
    }
   ],
   "source": [
    "print(train_indices_only.shape)\n",
    "# print(validation_indices.shape)\n",
    "print(test_indices_only.shape)\n",
    "\n",
    "print(train_indices_only[0])\n",
    "print(test_indices_only[0])\n",
    "\n",
    "print(train_labels_only.shape)\n",
    "# print(validation_labels.shape)\n",
    "print(test_labels_only.shape)\n",
    "\n",
    "print(train_labels_only[0])\n",
    "print(test_labels_only[0])"
   ]
  },
  {
   "cell_type": "code",
   "execution_count": 40,
   "metadata": {},
   "outputs": [],
   "source": [
    "# batch the dataset\n",
    "batch_size = 32\n",
    "train_dataloader = DataLoader(list(zip(train_indices_only, train_labels_only)), batch_size=batch_size, shuffle=True)\n",
    "# validation_dataloader = DataLoader(list(zip(validation_indices_only, validation_labels_only)), batch_size=batch_size, shuffle=True)\n",
    "test_dataloader = DataLoader(list(zip(test_indices_only, test_labels_only)), batch_size=batch_size, shuffle=True)\n"
   ]
  },
  {
   "cell_type": "code",
   "execution_count": 41,
   "metadata": {},
   "outputs": [],
   "source": [
    "# define the model as a sentence classifier using ELMO embeddings using two biLSTM layers and use glove embeddings for the words\n",
    "class SentenceClassifier(nn.Module):\n",
    "    def __init__(self, embedding_dim, hidden_dim, vocab_size, num_classes=3, num_layers=2, dropout=0.5):\n",
    "        super(SentenceClassifier, self).__init__()\n",
    "        self.embedding_dim = embedding_dim\n",
    "        self.hidden_dim = hidden_dim\n",
    "        self.vocab_size = vocab_size\n",
    "        self.num_classes = num_classes\n",
    "        self.num_layers = num_layers\n",
    "        self.dropout = dropout\n",
    "\n",
    "        self.embedding = nn.Embedding(self.vocab_size, self.embedding_dim)\n",
    "        self.lstm1f = nn.LSTM(self.embedding_dim, self.hidden_dim, 1, bidirectional=False, batch_first=True, dropout=self.dropout)\n",
    "        self.lstm1b = nn.LSTM(self.embedding_dim, self.hidden_dim, 1, bidirectional=False, batch_first=True, dropout=self.dropout)\n",
    "        self.lstm2f = nn.LSTM(self.hidden_dim, self.hidden_dim, 1, bidirectional=False, batch_first=True, dropout=self.dropout)\n",
    "        self.lstm2b = nn.LSTM(self.hidden_dim, self.hidden_dim, 1, bidirectional=False, batch_first=True, dropout=self.dropout)\n",
    "        # self.lstm = nn.LSTM(self.embedding_dim, self.hidden_dim, self.num_layers, bidirectional=True, dropout=self.dropout)\n",
    "        self.linear = nn.Linear(self.hidden_dim * 4 + self.embedding_dim, self.num_classes)\n",
    "        self.dropout = nn.Dropout(self.dropout)\n",
    "\n",
    "    def forward(self, x):\n",
    "        # x.shape = (batch_size, max_length)\n",
    "        embedded = self.embedding(x)\n",
    "        # embedded.shape = (batch_size, max_length, embedding_dim)\n",
    "        # print(embedded.shape)\n",
    "        output1f, (hidden1f, cell1f) = self.lstm1f(embedded)\n",
    "        output1b, (hidden1b, cell1b) = self.lstm1b(embedded.flip(dims = [1]))\n",
    "        # output1b, (hidden1b, cell1b) = self.lstm1b(embedded)\n",
    "        output2f, (hidden2f, cell2f) = self.lstm2f(output1f)\n",
    "        output2b, (hidden2b, cell2b) = self.lstm2b(output1b)\n",
    "        # output.shape = (batch_size, max_length, hidden_dim)\n",
    "        \n",
    "        # concatenate the forward and backward outputs for both layers\n",
    "        output1 = torch.cat((output1f, output1b), dim=2)\n",
    "        output2 = torch.cat((output2f, output2b), dim=2)\n",
    "        # output.shape = (batch_size, max_length, hidden_dim * 2)\n",
    "\n",
    "        # pass these outputs through a linear layer along with the initial embedding\n",
    "        output = torch.cat((output1, output2, embedded), dim=2)\n",
    "        # output.shape = (batch_size, max_length, hidden_dim * 4 + embedding_dim)\n",
    "        output = self.linear(output)\n",
    "        # output.shape = (batch_size, max_length, num_classes)\n",
    "        output = output[:, -1, :]\n",
    "        # output.shape = (batch_size, num_classes)\n",
    "        output = self.dropout(output)\n",
    "        return output    "
   ]
  },
  {
   "cell_type": "code",
   "execution_count": 43,
   "metadata": {},
   "outputs": [],
   "source": [
    "# define the hyperparameters\n",
    "embedding_dim = 300\n",
    "hidden_dim = 256\n",
    "vocab_size = len(vocabulary)\n",
    "num_classes = 3\n",
    "num_layers = 2\n",
    "dropout = 0.5\n",
    "learning_rate = 0.001\n",
    "num_epochs = 10\n",
    "\n",
    "# initialize the model\n",
    "model = SentenceClassifier(embedding_dim, hidden_dim, vocab_size, num_classes, num_layers, dropout)\n",
    "model.to(device)\n",
    "\n",
    "# define the loss function and optimizer\n",
    "criterion = nn.CrossEntropyLoss()\n",
    "optimizer = torch.optim.Adam(model.parameters(), lr=learning_rate)"
   ]
  },
  {
   "cell_type": "code",
   "execution_count": 45,
   "metadata": {},
   "outputs": [
    {
     "name": "stdout",
     "output_type": "stream",
     "text": [
      "Epoch: 1, Train Loss: 1.060, Train Accuracy: 0.406\n",
      "Epoch: 2, Train Loss: 0.980, Train Accuracy: 0.486\n",
      "Epoch: 3, Train Loss: 0.943, Train Accuracy: 0.515\n",
      "Epoch: 4, Train Loss: 0.914, Train Accuracy: 0.533\n",
      "Epoch: 5, Train Loss: 0.886, Train Accuracy: 0.551\n",
      "Epoch: 6, Train Loss: 0.857, Train Accuracy: 0.567\n",
      "Epoch: 7, Train Loss: 0.827, Train Accuracy: 0.584\n",
      "Epoch: 8, Train Loss: 0.803, Train Accuracy: 0.597\n",
      "Epoch: 9, Train Loss: 0.776, Train Accuracy: 0.612\n",
      "Epoch: 10, Train Loss: 0.749, Train Accuracy: 0.624\n"
     ]
    }
   ],
   "source": [
    "# train the model\n",
    "for epoch in range(num_epochs):\n",
    "    model.train()\n",
    "    train_loss = 0\n",
    "    train_correct = 0\n",
    "    train_total = 0\n",
    "    for batch in train_dataloader:\n",
    "        # get the inputs and labels\n",
    "        inputs, labels = batch\n",
    "        inputs = inputs.to(device)\n",
    "        labels = labels.to(device)\n",
    "\n",
    "        # zero the parameter gradients\n",
    "        optimizer.zero_grad()\n",
    "\n",
    "        # forward + backward + optimize\n",
    "        outputs = model(inputs)\n",
    "        loss = criterion(outputs, labels)\n",
    "        loss.backward()\n",
    "        optimizer.step()\n",
    "\n",
    "        # calculate the statistics\n",
    "        train_loss += loss.item()\n",
    "        _, predicted = torch.max(outputs.data, 1)\n",
    "        train_total += labels.size(0)\n",
    "        train_correct += (predicted == labels).sum().item()\n",
    "\n",
    "    # print the statistics\n",
    "    print(\"Epoch: %d, Train Loss: %.3f, Train Accuracy: %.3f\" % (epoch + 1, train_loss / len(train_dataloader), train_correct / train_total))"
   ]
  },
  {
   "cell_type": "code",
   "execution_count": 46,
   "metadata": {},
   "outputs": [
    {
     "name": "stdout",
     "output_type": "stream",
     "text": [
      "Test Loss: 0.903, Test Accuracy: 0.596\n"
     ]
    }
   ],
   "source": [
    "# evaluate the model\n",
    "model.eval()\n",
    "test_loss = 0\n",
    "test_correct = 0\n",
    "test_total = 0\n",
    "for batch in test_dataloader:\n",
    "    # get the inputs and labels\n",
    "    inputs, labels = batch\n",
    "    inputs = inputs.to(device)\n",
    "    labels = labels.to(device)\n",
    "\n",
    "    # forward\n",
    "    outputs = model(inputs)\n",
    "    loss = criterion(outputs, labels)\n",
    "\n",
    "    # calculate the statistics\n",
    "    test_loss += loss.item()\n",
    "    _, predicted = torch.max(outputs.data, 1)\n",
    "    test_total += labels.size(0)\n",
    "    test_correct += (predicted == labels).sum().item()\n",
    "\n",
    "# print the statistics\n",
    "print(\"Test Loss: %.3f, Test Accuracy: %.3f\" % (test_loss / len(test_dataloader), test_correct / test_total))\n",
    "\n",
    "# save the model\n",
    "torch.save(model.state_dict(), \"nli_model.pt\")\n"
   ]
  },
  {
   "cell_type": "code",
   "execution_count": 47,
   "metadata": {},
   "outputs": [
    {
     "name": "stdout",
     "output_type": "stream",
     "text": [
      "               precision    recall  f1-score   support\n",
      "\n",
      "   entailment       0.60      0.60      0.60      3479\n",
      "      neutral       0.53      0.58      0.55      3123\n",
      "contradiction       0.66      0.61      0.64      3213\n",
      "\n",
      "     accuracy                           0.60      9815\n",
      "    macro avg       0.60      0.60      0.60      9815\n",
      " weighted avg       0.60      0.60      0.60      9815\n",
      "\n"
     ]
    },
    {
     "data": {
      "image/png": "[encoded data removed]",
      "text/plain": [
       "<Figure size 640x480 with 2 Axes>"
      ]
     },
     "metadata": {},
     "output_type": "display_data"
    },
    {
     "data": {
      "image/png": "[encoded data removed]",
      "text/plain": [
       "<Figure size 640x480 with 1 Axes>"
      ]
     },
     "metadata": {},
     "output_type": "display_data"
    }
   ],
   "source": [
    "# get classificaiton report, confusion matrix, and ROC curve using sklearn\n",
    "from sklearn.metrics import classification_report\n",
    "from sklearn.metrics import confusion_matrix\n",
    "from sklearn.metrics import roc_curve, roc_auc_score\n",
    "import matplotlib.pyplot as plt\n",
    "\n",
    "model.eval()\n",
    "y_true = []\n",
    "y_pred = []\n",
    "for batch in test_dataloader:\n",
    "    # get the inputs and labels\n",
    "    inputs, labels = batch\n",
    "    inputs = inputs.to(device)\n",
    "    labels = labels.to(device)\n",
    "\n",
    "    # forward\n",
    "    outputs = model(inputs)\n",
    "    _, predicted = torch.max(outputs.data, 1)\n",
    "\n",
    "    # append the labels\n",
    "    y_true.extend(labels.tolist())\n",
    "    y_pred.extend(predicted.tolist())\n",
    "\n",
    "# print the classification report\n",
    "print(classification_report(y_true, y_pred, target_names=[\"entailment\", \"neutral\", \"contradiction\"]))\n",
    "\n",
    "# plot the confusion matrix\n",
    "cm = confusion_matrix(y_true, y_pred)\n",
    "plt.imshow(cm, interpolation=\"nearest\", cmap=plt.cm.Blues)\n",
    "plt.colorbar()\n",
    "plt.xticks([0, 1, 2], [\"entailment\", \"neutral\", \"contradiction\"])\n",
    "plt.yticks([0, 1, 2], [\"entailment\", \"neutral\", \"contradiction\"])\n",
    "plt.xlabel(\"Predicted Label\")\n",
    "plt.ylabel(\"True Label\")\n",
    "plt.show()\n",
    "\n",
    "# plot the ROC curve\n",
    "y_true = np.array(y_true)\n",
    "y_pred = np.array(y_pred)\n",
    "fpr, tpr, thresholds = roc_curve(y_true, y_pred, pos_label=2)\n",
    "plt.plot(fpr, tpr)\n",
    "plt.xlabel(\"False Positive Rate\")\n",
    "plt.ylabel(\"True Positive Rate\")\n",
    "plt.show()\n",
    "\n"
   ]
  },
  {
   "cell_type": "code",
   "execution_count": 48,
   "metadata": {},
   "outputs": [
    {
     "name": "stderr",
     "output_type": "stream",
     "text": [
      "/home/prani/.local/lib/python3.10/site-packages/torch/nn/modules/rnn.py:67: UserWarning: dropout option adds dropout after all but last recurrent layer, so non-zero dropout expects num_layers greater than 1, but got dropout=0.5 and num_layers=1\n",
      "  warnings.warn(\"dropout option adds dropout after all but last \"\n"
     ]
    },
    {
     "data": {
      "text/plain": [
       "SentenceClassifier(\n",
       "  (embedding): Embedding(48830, 300)\n",
       "  (lstm1f): LSTM(300, 256, batch_first=True, dropout=0.5)\n",
       "  (lstm1b): LSTM(300, 256, batch_first=True, dropout=0.5)\n",
       "  (lstm2f): LSTM(256, 256, batch_first=True, dropout=0.5)\n",
       "  (lstm2b): LSTM(256, 256, batch_first=True, dropout=0.5)\n",
       "  (linear): Linear(in_features=1324, out_features=3, bias=True)\n",
       "  (dropout): Dropout(p=0.5, inplace=False)\n",
       ")"
      ]
     },
     "execution_count": 48,
     "metadata": {},
     "output_type": "execute_result"
    }
   ],
   "source": [
    "# load the model\n",
    "model = SentenceClassifier(embedding_dim, hidden_dim, vocab_size, num_classes, num_layers, dropout)\n",
    "model.load_state_dict(torch.load(\"nli_model.pt\"))\n",
    "model.to(device)"
   ]
  },
  {
   "cell_type": "code",
   "execution_count": null,
   "metadata": {},
   "outputs": [],
   "source": []
  }
 ],
 "metadata": {
  "kernelspec": {
   "display_name": "Python 3",
   "language": "python",
   "name": "python3"
  },
  "language_info": {
   "codemirror_mode": {
    "name": "ipython",
    "version": 3
   },
   "file_extension": ".py",
   "mimetype": "text/x-python",
   "name": "python",
   "nbconvert_exporter": "python",
   "pygments_lexer": "ipython3",
   "version": "3.10.6"
  },
  "orig_nbformat": 4
 },
 "nbformat": 4,
 "nbformat_minor": 2
}
